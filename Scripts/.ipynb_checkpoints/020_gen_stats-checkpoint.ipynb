{
 "cells": [
  {
   "cell_type": "markdown",
   "metadata": {},
   "source": [
    "## 020_gen_stats\n",
    "### General Statistics and Graphics \n",
    "### James Wilson"
   ]
  },
  {
   "cell_type": "code",
   "execution_count": 1,
   "metadata": {},
   "outputs": [],
   "source": [
    "# -*- coding: utf-8 -*-\n",
    "import pandas as pd"
   ]
  },
  {
   "cell_type": "code",
   "execution_count": 2,
   "metadata": {},
   "outputs": [],
   "source": [
    "# Load Data\n",
    "jeopardy_df = pd.read_csv(\"../Data/clean_jeopardy_data.csv\")"
   ]
  },
  {
   "cell_type": "code",
   "execution_count": 3,
   "metadata": {},
   "outputs": [],
   "source": [
    "# General Analysis\n",
    "contestants = jeopardy_df.groupby('Full Name').agg(['count'])\n",
    "jobs = jeopardy_df.groupby('Occupation')['Full Name'].nunique()\n",
    "town = jeopardy_df.groupby('Hometown')['Full Name'].nunique()"
   ]
  },
  {
   "cell_type": "code",
   "execution_count": 4,
   "metadata": {},
   "outputs": [
    {
     "data": {
      "text/plain": [
       "Full Name\n",
       "Aaron Benor      1\n",
       "Aaron Ellis      1\n",
       "Aaron Lichtig    1\n",
       "Aaron Rodgers    1\n",
       "Abbie Micucci    1\n",
       "                ..\n",
       "Zia Jones        1\n",
       "Ziad Ali         1\n",
       "Zlatan Hodzic    1\n",
       "Zoey Orol        1\n",
       "Zorn Pink        1\n",
       "Name: Occupation, Length: 2379, dtype: int64"
      ]
     },
     "execution_count": 4,
     "metadata": {},
     "output_type": "execute_result"
    }
   ],
   "source": [
    "# Investigate\n",
    "jeopardy_df.groupby('Full Name')['Occupation'].nunique()"
   ]
  },
  {
   "cell_type": "code",
   "execution_count": 5,
   "metadata": {},
   "outputs": [
    {
     "data": {
      "text/plain": [
       "Occupation\n",
       "a 10th and 11th grade English teacher          1\n",
       "a 10th grade English teacher                   1\n",
       "a 10th grade English teacher originally        1\n",
       "a 10th grade chemistry teacher                 1\n",
       "a 12-year-old                                  6\n",
       "                                              ..\n",
       "an owner of a drug & DNA testing laboratory    1\n",
       "an unemployed bartender                        1\n",
       "an urban planner                               1\n",
       "an utility locator                             1\n",
       "the reigning NFL MVP                           1\n",
       "Name: Full Name, Length: 1539, dtype: int64"
      ]
     },
     "execution_count": 5,
     "metadata": {},
     "output_type": "execute_result"
    }
   ],
   "source": [
    "## CLEAN JOBS \n",
    "# remove filler words \n",
    "# "
   ]
  },
  {
   "cell_type": "code",
   "execution_count": null,
   "metadata": {},
   "outputs": [],
   "source": [
    "# jobs & locations text generated ?"
   ]
  },
  {
   "cell_type": "code",
   "execution_count": null,
   "metadata": {},
   "outputs": [],
   "source": [
    "# fix any issue with states / cites \n",
    "# map cities states \n",
    "# review streaks of contestants \n",
    "# predict winnings based on data - run corr on data !!!! "
   ]
  },
  {
   "cell_type": "code",
   "execution_count": null,
   "metadata": {},
   "outputs": [],
   "source": [
    "\n"
   ]
  },
  {
   "cell_type": "code",
   "execution_count": null,
   "metadata": {},
   "outputs": [],
   "source": []
  }
 ],
 "metadata": {
  "kernelspec": {
   "display_name": "Python 3",
   "language": "python",
   "name": "python3"
  },
  "language_info": {
   "codemirror_mode": {
    "name": "ipython",
    "version": 3
   },
   "file_extension": ".py",
   "mimetype": "text/x-python",
   "name": "python",
   "nbconvert_exporter": "python",
   "pygments_lexer": "ipython3",
   "version": "3.7.6"
  }
 },
 "nbformat": 4,
 "nbformat_minor": 2
}
