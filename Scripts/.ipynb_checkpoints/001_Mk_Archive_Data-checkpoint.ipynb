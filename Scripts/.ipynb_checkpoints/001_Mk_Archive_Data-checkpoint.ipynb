{
 "cells": [
  {
   "cell_type": "markdown",
   "metadata": {},
   "source": [
    "## 001_mk_archive_data\n",
    "### Create Jeopardy Archive Data \n",
    "### James Wilson"
   ]
  },
  {
   "cell_type": "code",
   "execution_count": 2,
   "metadata": {},
   "outputs": [],
   "source": [
    "# -*- coding: utf-8 -*-\n",
    "from bs4 import BeautifulSoup\n",
    "import requests\n",
    "import pandas as pd\n",
    "import re"
   ]
  },
  {
   "cell_type": "markdown",
   "metadata": {},
   "source": [
    "### Scrape online archive data"
   ]
  },
  {
   "cell_type": "code",
   "execution_count": 3,
   "metadata": {},
   "outputs": [],
   "source": [
    "#Prep variables \n",
    "#http://www.j-archive.com/showgame.php?game_id=6388\n",
    "index = 0\n",
    "output = []\n",
    "archive_link = \"http://www.j-archive.com/showgame.php?game_id=\"\n",
    "game_id = 6389\n",
    "new_game_id = 0\n",
    "jeopardy_archive_link = archive_link + str(game_id)"
   ]
  },
  {
   "cell_type": "code",
   "execution_count": null,
   "metadata": {},
   "outputs": [
    {
     "name": "stdout",
     "output_type": "stream",
     "text": [
      "error6309\n",
      "error6309\n",
      "error6291\n",
      "error6291\n",
      "error6227\n",
      "error6227\n",
      "error6227\n",
      "error6226\n",
      "error6226\n",
      "error6226\n",
      "error6224\n",
      "error6224\n",
      "error6224\n",
      "error6223\n",
      "error6223\n",
      "error6223\n"
     ]
    }
   ],
   "source": [
    "#start extraction \n",
    "while index < 2000:\n",
    "    \n",
    "    # pull page\n",
    "    page_response = requests.get(jeopardy_archive_link, timeout=5)\n",
    "    page_content = BeautifulSoup(page_response.content, \"html.parser\")\n",
    "    \n",
    "    # empty variables\n",
    "    anecdotes = []\n",
    "    final_scores = []\n",
    "    names = []\n",
    "    show_info1 = []\n",
    "    show_info2 = []\n",
    "    show_info3 = []\n",
    "    \n",
    "    #title date \n",
    "    title_date = page_content.find_all('title')[0].text # clean to just date (?)\n",
    "    \n",
    "    for j in range(0, 3):\n",
    "        #Find all anecdotes for contestants \n",
    "        paragraphs = page_content.find_all(\"p\")[j].text\n",
    "        \n",
    "        # Final all final scores for contestants \n",
    "        try:\n",
    "            table1 = page_content.find_all(lambda tag: tag.name == 'td' and \n",
    "                                   tag.get('class') == ['score_positive'])[9:12][j].text\n",
    "            pass\n",
    "        except IndexError:\n",
    "            print(\"error\" + str(new_game_id)) # ignore - to locate mismatched fields from archive (special events)\n",
    "        \n",
    "        #find all names\n",
    "        table2 = page_content.find_all(lambda tag: tag.name == 'td' and \n",
    "                                   tag.get('class') == ['score_player_nickname'])[j].text\n",
    "        # append those players together\n",
    "        anecdotes.append(paragraphs)\n",
    "        final_scores.append(table1)\n",
    "        names.append(table2)\n",
    "\n",
    "    # reorder and correct data \n",
    "    show_info1.extend([names[0],anecdotes[2],final_scores[0],title_date])\n",
    "    show_info2.extend([names[1],anecdotes[1],final_scores[1],title_date])\n",
    "    show_info3.extend([names[2],anecdotes[0],final_scores[2],title_date])\n",
    "    \n",
    "    #create output file\n",
    "    output.append(show_info1)\n",
    "    output.append(show_info2)\n",
    "    output.append(show_info3)\n",
    "    \n",
    "    #create link to next page\n",
    "        #create previous page number\n",
    "    new_game_id = page_content.find_all(lambda tag: tag.name == 'a' and \n",
    "                                        tag.get('href') and \n",
    "                                        tag.text == \"[<< previous game]\")\n",
    "    new_game_id = re.findall(r'\\d+', str(new_game_id[0]))[0]\n",
    "        # create link \n",
    "    jeopardy_archive_link = archive_link + new_game_id\n",
    "    jeopardy_archive_link\n",
    "    \n",
    "    #update iterator \n",
    "    index = index + 1\n",
    "    \n"
   ]
  },
  {
   "cell_type": "code",
   "execution_count": null,
   "metadata": {},
   "outputs": [],
   "source": [
    "#output\n",
    "arch = pd.DataFrame.from_records(output)\n",
    "arch.columns = [\"Nickname\", \"Player Details\", \"Final Score\", \"Show Info\"]\n",
    "arch\n",
    "arch[\"Player Details\"].iloc[0].split(\"from\")[1].split(\"(\")[1].strip()"
   ]
  },
  {
   "cell_type": "code",
   "execution_count": null,
   "metadata": {},
   "outputs": [],
   "source": [
    "# Create Name Field \n",
    "# SPlIT TWT TEXT INTO SEPERATE COLUMNS \n",
    "arch[\"Full Name\"] = \"\"\n",
    "arch[\"Occupation\"] = \"\"\n",
    "arch[\"Hometown\"] = \"\"\n",
    "arch[\"Streak\"] = \"\"\n",
    "arch[\"Cash Winnings\"] = \"\"\n",
    "arch[\"Archive Info\"] = \"\"\n",
    "arch[\"Date\"] = \"\""
   ]
  },
  {
   "cell_type": "code",
   "execution_count": null,
   "metadata": {},
   "outputs": [],
   "source": [
    "for i in range(0,len(arch)):\n",
    "    \n",
    "    # extract player details \n",
    "    arch.at[i,\"Full Name\"] = arch[\"Player Details\"].iloc[i].split(\",\")[0]\n",
    "    arch.at[i,\"Occupation\"] = arch[\"Player Details\"].iloc[i].split(\",\")[1].split(\"from\")[0].strip()\n",
    "    arch.at[i,\"Hometown\"] = arch[\"Player Details\"].iloc[i].split(\"from\")[1].split(\"(\")[0].strip()\n",
    "    \n",
    "    # To Add \n",
    "    #arch.at[i,\"Streak\"] = \"\"\n",
    "    #arch.at[i,\"Cash Winnings\"] = \"\"\n",
    "    \n",
    "    # extra show info \n",
    "    arch.at[i,\"Archive Info\"] = arch[\"Show Info\"].iloc[i].split(\", aired\")[0].strip()\n",
    "    arch.at[i,\"Date\"] = arch[\"Show Info\"].iloc[i].split(\", aired\")[1].strip()\n"
   ]
  },
  {
   "cell_type": "code",
   "execution_count": null,
   "metadata": {},
   "outputs": [],
   "source": [
    "arch.head(5)"
   ]
  },
  {
   "cell_type": "code",
   "execution_count": null,
   "metadata": {},
   "outputs": [],
   "source": [
    "# - Clean date\n",
    "arch['Date'].replace(regex=True,inplace=True,to_replace=r':',value=r'')\n",
    "arch['Date'] = pd.to_datetime(arch['Date'], errors='coerce')\n",
    "arch.head(5)"
   ]
  },
  {
   "cell_type": "code",
   "execution_count": null,
   "metadata": {},
   "outputs": [],
   "source": [
    "arch.to_csv('jeopardy_archive_data.csv', index = None, header=True) #Don't forget to add '.csv' at the end of the path"
   ]
  }
 ],
 "metadata": {
  "kernelspec": {
   "display_name": "Python 3",
   "language": "python",
   "name": "python3"
  },
  "language_info": {
   "codemirror_mode": {
    "name": "ipython",
    "version": 3
   },
   "file_extension": ".py",
   "mimetype": "text/x-python",
   "name": "python",
   "nbconvert_exporter": "python",
   "pygments_lexer": "ipython3",
   "version": "3.7.3"
  }
 },
 "nbformat": 4,
 "nbformat_minor": 2
}
