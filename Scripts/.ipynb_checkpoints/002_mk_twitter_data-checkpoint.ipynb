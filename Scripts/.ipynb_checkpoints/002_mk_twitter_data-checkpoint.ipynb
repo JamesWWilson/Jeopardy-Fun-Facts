{
 "cells": [
  {
   "cell_type": "markdown",
   "metadata": {},
   "source": [
    "## 002_mk_twitter_data\n",
    "### Create @CoolJepStories Data \n",
    "### James Wilson"
   ]
  },
  {
   "cell_type": "code",
   "execution_count": 2,
   "metadata": {},
   "outputs": [],
   "source": [
    "# -*- coding: utf-8 -*-\n",
    "import tweepy\n",
    "import pandas as pd\n",
    "from pandas import DataFrame\n",
    "\n",
    "jeopardy_funfact_twitter_link = 'https://twitter.com/cooljepstories?lang=en'"
   ]
  },
  {
   "cell_type": "markdown",
   "metadata": {},
   "source": [
    "### load Twitter API credentials"
   ]
  },
  {
   "cell_type": "code",
   "execution_count": 3,
   "metadata": {},
   "outputs": [
    {
     "ename": "TypeError",
     "evalue": "unsupported operand type(s) for -: 'str' and 'str'",
     "output_type": "error",
     "traceback": [
      "\u001b[1;31m---------------------------------------------------------------------------\u001b[0m",
      "\u001b[1;31mTypeError\u001b[0m                                 Traceback (most recent call last)",
      "\u001b[1;32m<ipython-input-3-af62f0b32bf9>\u001b[0m in \u001b[0;36m<module>\u001b[1;34m\u001b[0m\n\u001b[0;32m      1\u001b[0m \u001b[0mconsumer_key\u001b[0m\u001b[1;33m=\u001b[0m \u001b[1;34m'###############################'\u001b[0m\u001b[1;33m\u001b[0m\u001b[1;33m\u001b[0m\u001b[0m\n\u001b[0;32m      2\u001b[0m \u001b[0mconsumer_secret\u001b[0m\u001b[1;33m=\u001b[0m \u001b[1;34m'###############################'\u001b[0m\u001b[1;33m\u001b[0m\u001b[1;33m\u001b[0m\u001b[0m\n\u001b[1;32m----> 3\u001b[1;33m \u001b[0maccess_key\u001b[0m \u001b[1;33m=\u001b[0m \u001b[1;34m'###############################'\u001b[0m\u001b[1;33m-\u001b[0m\u001b[1;34m'###############################'\u001b[0m\u001b[1;33m\u001b[0m\u001b[1;33m\u001b[0m\u001b[0m\n\u001b[0m\u001b[0;32m      4\u001b[0m \u001b[0maccess_secret\u001b[0m\u001b[1;33m=\u001b[0m \u001b[1;34m'###############################'\u001b[0m\u001b[1;33m\u001b[0m\u001b[1;33m\u001b[0m\u001b[0m\n",
      "\u001b[1;31mTypeError\u001b[0m: unsupported operand type(s) for -: 'str' and 'str'"
     ]
    }
   ],
   "source": [
    "consumer_key= '###############################'\n",
    "consumer_secret= '###############################'\n",
    "access_key = '###############################'-'###############################'\n",
    "access_secret= '###############################'"
   ]
  },
  {
   "cell_type": "code",
   "execution_count": null,
   "metadata": {},
   "outputs": [],
   "source": [
    "#User ID\n",
    "userID = \"@CoolJepStories\"\n",
    "# Authorization to consumer key and consumer secret \n",
    "auth = tweepy.OAuthHandler(consumer_key, consumer_secret) \n",
    "# Access to user's access key and access secret \n",
    "auth.set_access_token(access_key, access_secret) \n",
    "# Calling api \n",
    "api = tweepy.API(auth) "
   ]
  },
  {
   "cell_type": "code",
   "execution_count": null,
   "metadata": {},
   "outputs": [],
   "source": [
    "# 1750 tweets to be extracted \n",
    "number_of_tweets=1750\n",
    "tweets = api.user_timeline(screen_name=userID, count = number_of_tweets, \n",
    "                           include_rts = False, tweet_mode=\"extended\") \n",
    "\n",
    "all_tweets = []\n",
    "all_tweets.extend(tweets)\n",
    "oldest_id = tweets[-1].id\n",
    "while True:\n",
    "    tweets = api.user_timeline(screen_name=userID, \n",
    "                           count=200, # max allowed count\n",
    "                           include_rts = False,\n",
    "                           max_id = oldest_id - 1,\n",
    "                           # Necessary to keep full_text \n",
    "                           # otherwise only the first 140 words are extracted\n",
    "                           tweet_mode = 'extended'\n",
    "                           )\n",
    "    if len(tweets) == 0:\n",
    "        break\n",
    "    oldest_id = tweets[-1].id\n",
    "    all_tweets.extend(tweets)\n",
    "    print('N of tweets downloaded till now {}'.format(len(all_tweets)))\n"
   ]
  },
  {
   "cell_type": "code",
   "execution_count": null,
   "metadata": {},
   "outputs": [],
   "source": [
    "#transform the tweepy tweets into a 2D array that will populate the csv\t\n",
    "outtweets = [[tweet.id_str, \n",
    "              tweet.created_at, \n",
    "              tweet.favorite_count, \n",
    "              tweet.retweet_count, \n",
    "              tweet.full_text.encode(\"utf-8\").decode(\"utf-8\")] \n",
    "             for idx,tweet in enumerate(all_tweets)]\n",
    "df = DataFrame(outtweets,columns=[\"id\",\"created_at\",\"favorite_count\",\"retweet_count\", \"text\"])\n",
    "df.to_csv('%s_tweets.csv' % userID,index=False)\n",
    "df.head(10)\n"
   ]
  },
  {
   "cell_type": "code",
   "execution_count": null,
   "metadata": {},
   "outputs": [],
   "source": [
    "# Flag just relevant tweets \n",
    "df[\"game_info_flg\"] = \"\"\n",
    "\n",
    "#subset to just game events\n",
    "for i in range(0,len(df)):\n",
    "    #print(((df['text'][i][0]).isnumeric()))\n",
    "    df.at[i,'game_info_flg'] = df['text'][i][0].isnumeric()\n",
    "df_games = df[df[\"game_info_flg\"] == True]\n",
    "df_games.reset_index(drop=True, inplace=True)"
   ]
  },
  {
   "cell_type": "code",
   "execution_count": null,
   "metadata": {},
   "outputs": [],
   "source": [
    "# SPlIT TWT TEXT INTO SEPERATE COLUMNS \n",
    "df_games[\"Date\"] = \"\"\n",
    "df_games[\"Answer1\"] = \"\"\n",
    "df_games[\"Answer2\"] = \"\"\n",
    "df_games[\"Answer3\"] = \"\"\n",
    "for i in range(0,len(df_games)):\n",
    "    twt_txt = df_games[\"text\"].iloc[i].split(\"\\n\")\n",
    "    # split and save as a new row \n",
    "    df_games.at[i,\"Date\"] = twt_txt[0]\n",
    "    df_games.at[i,\"Answer1\"] = twt_txt[1]\n",
    "    df_games.at[i,\"Answer2\"] = twt_txt[2]\n",
    "    if(len(twt_txt) > 3):\n",
    "        df_games.at[i,\"Answer3\"] = twt_txt[3]\n"
   ]
  },
  {
   "cell_type": "code",
   "execution_count": null,
   "metadata": {},
   "outputs": [],
   "source": [
    "# CLEAN COLUMNS \n",
    "# - Clean date\n",
    "df_games['Date'].replace(regex=True,inplace=True,to_replace=r':',value=r'')\n",
    "df_games['Date'] = pd.to_datetime(df_games['Date'], errors='coerce')\n"
   ]
  },
  {
   "cell_type": "code",
   "execution_count": null,
   "metadata": {},
   "outputs": [],
   "source": [
    "df_games.head(5)"
   ]
  },
  {
   "cell_type": "code",
   "execution_count": null,
   "metadata": {},
   "outputs": [],
   "source": [
    "# Output Data\n",
    "df_games.to_csv('../Data/jeopardy_twitter_data.csv', index = None, header=True) #Don't forget to add '.csv' at the end of the path"
   ]
  }
 ],
 "metadata": {
  "kernelspec": {
   "display_name": "Python 3",
   "language": "python",
   "name": "python3"
  },
  "language_info": {
   "codemirror_mode": {
    "name": "ipython",
    "version": 3
   },
   "file_extension": ".py",
   "mimetype": "text/x-python",
   "name": "python",
   "nbconvert_exporter": "python",
   "pygments_lexer": "ipython3",
   "version": "3.7.6"
  }
 },
 "nbformat": 4,
 "nbformat_minor": 2
}
